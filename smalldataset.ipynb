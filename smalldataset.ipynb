{
 "cells": [
  {
   "cell_type": "code",
   "execution_count": 1,
   "metadata": {},
   "outputs": [],
   "source": [
    "import matplotlib.pyplot as plt\n",
    "import os\n",
    "import cv2"
   ]
  },
  {
   "cell_type": "code",
   "execution_count": null,
   "metadata": {},
   "outputs": [],
   "source": [
    "from functions import *\n",
    "from stripthem import *"
   ]
  },
  {
   "cell_type": "code",
   "execution_count": null,
   "metadata": {},
   "outputs": [],
   "source": [
    "path = 'D:/Uni/mri/SK_MRI/MS_dataset_full/MS'"
   ]
  },
  {
   "cell_type": "code",
   "execution_count": null,
   "metadata": {},
   "outputs": [],
   "source": [
    "folders = os.listdir(path)\n",
    "for folder in folders:\n",
    "    files = os.listdir(os.path.join(path, folder, 'tif'))\n",
    "    for file in files:\n",
    "        if file[-6:] == '09.tif':\n",
    "            im = cv2.imread(os.path.join(path,folder,'tif',file))\n",
    "            row, col = im.shape[:2]\n",
    "            bsize = 32\n",
    "            bim = cv2.copyMakeBorder(im, top = 0, bottom = 0, left = bsize, right = bsize, \n",
    "                                     borderType = cv2.BORDER_CONSTANT, value = [0,0,0])\n",
    "            plt.imsave('D:/Uni/mri/dataset/masks/' + file, bim, cmap='gray')\n",
    "    print(folder)"
   ]
  },
  {
   "cell_type": "code",
   "execution_count": null,
   "metadata": {},
   "outputs": [],
   "source": [
    "folders = os.listdir(path)\n",
    "for folder in folders:\n",
    "    files = os.listdir(os.path.join(path, folder, 'png'))\n",
    "    for file in files:\n",
    "        if file[-6:] == '09.png':\n",
    "            im = cv2.imread(os.path.join(path,folder,'png',file))\n",
    "            row, col = im.shape[:2]\n",
    "            bsize = 32\n",
    "            bim = cv2.copyMakeBorder(im, top = 0, bottom = 0, left = bsize, right = bsize, \n",
    "                                     borderType = cv2.BORDER_CONSTANT, value = [0,0,0])\n",
    "            plt.imsave('D:/Uni/mri/dataset/heads/' + folder + '0009.tif', bim, cmap='gray')\n",
    "    print(folder)"
   ]
  },
  {
   "cell_type": "code",
   "execution_count": 29,
   "metadata": {},
   "outputs": [],
   "source": [
    "path = 'D:/Uni/mri/dataset/heads'\n",
    "files = os.listdir(path)\n",
    "for file in files:\n",
    "    im = cv2.imread(os.path.join(path,file))\n",
    "    res, _ = strip_one(im)\n",
    "    plt.imsave('D:/Uni/mri/dataset/brains/' + file, res, cmap='gray')"
   ]
  },
  {
   "cell_type": "code",
   "execution_count": 7,
   "metadata": {},
   "outputs": [],
   "source": [
    "path = 'D:/Uni/mri/mri/unet/data/train/label'\n",
    "files = os.listdir(path)\n",
    "for i,file in enumerate(files):\n",
    "    \n",
    "    os.rename(os.path.join(path, file), os.path.join(path, str(i) + '.tif'))"
   ]
  },
  {
   "cell_type": "code",
   "execution_count": null,
   "metadata": {},
   "outputs": [],
   "source": []
  }
 ],
 "metadata": {
  "kernelspec": {
   "display_name": "Python 3",
   "language": "python",
   "name": "python3"
  },
  "language_info": {
   "codemirror_mode": {
    "name": "ipython",
    "version": 3
   },
   "file_extension": ".py",
   "mimetype": "text/x-python",
   "name": "python",
   "nbconvert_exporter": "python",
   "pygments_lexer": "ipython3",
   "version": "3.6.5"
  }
 },
 "nbformat": 4,
 "nbformat_minor": 2
}
